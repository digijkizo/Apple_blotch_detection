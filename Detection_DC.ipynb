{
 "cells": [
  {
   "cell_type": "markdown",
   "id": "764876b2-3d74-4402-b37f-783d6ca5a78d",
   "metadata": {},
   "source": [
    "### Specify file path"
   ]
  },
  {
   "cell_type": "code",
   "execution_count": null,
   "id": "55b627c8-ff19-4cb4-80ab-137b0e428d08",
   "metadata": {},
   "outputs": [],
   "source": [
    "cd C:/Users/file path/"
   ]
  },
  {
   "cell_type": "markdown",
   "id": "7f55a12e-e505-4b02-b7a2-3cb5941c7160",
   "metadata": {},
   "source": [
    "### Clone GitHub repository, install dependencies"
   ]
  },
  {
   "cell_type": "code",
   "execution_count": null,
   "id": "1a7ef1f2-6f1f-4cdb-8fa4-3f7a7764d293",
   "metadata": {},
   "outputs": [],
   "source": [
    "!git clone https://github.com/ultralytics/yolov5 \n",
    "%cd yolov5"
   ]
  },
  {
   "cell_type": "code",
   "execution_count": null,
   "id": "51aa52b6-0c50-470a-81f7-11a648f8f991",
   "metadata": {},
   "outputs": [],
   "source": [
    "!pip install -r requirements.txt --use-deprecated=legacy-resolver"
   ]
  },
  {
   "cell_type": "markdown",
   "id": "dbf079eb-9c7b-4932-a38d-2548cb6db1ff",
   "metadata": {},
   "source": [
    "### Install PyTorch version depending using CPU or GPU usage: https://pytorch.org/get-started/locally/ \n",
    "##### (example is for CPU-only variant)"
   ]
  },
  {
   "cell_type": "code",
   "execution_count": null,
   "id": "4e5bcb6b-d8e9-48e7-8bcd-639096b06697",
   "metadata": {},
   "outputs": [],
   "source": [
    "!pip install torch torchvision torchaudio"
   ]
  },
  {
   "cell_type": "markdown",
   "id": "89adf2f2-c9c9-40ae-9cca-3dda1dca1336",
   "metadata": {},
   "source": [
    "### Check PyTorch and Utils"
   ]
  },
  {
   "cell_type": "code",
   "execution_count": null,
   "id": "929ad600-5555-4c27-b429-f67e856ea348",
   "metadata": {},
   "outputs": [],
   "source": [
    "import torch\n",
    "import torchvision\n",
    "import utils\n",
    "from matplotlib import pyplot as plt\n",
    "import numpy as np\n",
    "import cv2"
   ]
  },
  {
   "cell_type": "markdown",
   "id": "d792b201-741c-4cf5-a507-49c98275acdb",
   "metadata": {},
   "source": [
    "### Release of the entire unused cache memory (GPU Memory Allocator) in PyTorch"
   ]
  },
  {
   "cell_type": "code",
   "execution_count": 8,
   "id": "5cfbcf14-9315-4e4e-8961-c817f033a99d",
   "metadata": {},
   "outputs": [],
   "source": [
    "import torch\n",
    "torch.cuda.empty_cache()"
   ]
  },
  {
   "cell_type": "markdown",
   "id": "1aa13da9-3e5f-4ac5-9a29-23fbc98caa2d",
   "metadata": {},
   "source": [
    "### Detect DC symptoms on images"
   ]
  },
  {
   "cell_type": "code",
   "execution_count": null,
   "id": "0c7632a0-52f9-4d7b-8aef-faaa90af1e27",
   "metadata": {},
   "outputs": [],
   "source": [
    "!python detect.py --weights DC_model_best.pt --device cpu --save-txt --imgsz 3414 --conf 0.45 --iou-thres 0.7 --source data/images --project detection_output --name DC"
   ]
  },
  {
   "cell_type": "markdown",
   "id": "2c0060b1-42d6-4dc4-afad-f87d2e34a657",
   "metadata": {},
   "source": [
    "#### Parameter Settings\n",
    "\n",
    "##### device:       device to run on, i.e. cuda device 0/1/2/3 or device cpu\n",
    "##### save-text:    save labels as txt.file\n",
    "##### imgsz:        pixel size of the images\n",
    "##### conf\t0.45: \tobject confidence threshold for detection, for DC detection 0.45 is recommended\n",
    "##### iou\t0.7:\tintersection over union (IoU) threshold, for DC detection 0.7 is recommended"
   ]
  },
  {
   "cell_type": "markdown",
   "id": "b2e8101b-10c0-4b6c-bd2f-52de2eb6c96d",
   "metadata": {},
   "source": [
    "### Summarize the number of detected objects per image and save it in a csv. "
   ]
  },
  {
   "cell_type": "code",
   "execution_count": null,
   "id": "6984ee6f-aaf4-4e03-8c56-66413d5277be",
   "metadata": {},
   "outputs": [],
   "source": [
    "import os\n",
    "import csv\n",
    "\n",
    "folder_path = \"detection_output/DC/labels\"\n",
    "output_file = os.path.join(folder_path, \"counting_detections.csv\")\n",
    "\n",
    "file_list = os.listdir(folder_path)\n",
    "\n",
    "with open(output_file, mode='w', newline='') as file:\n",
    "    writer = csv.writer(file)\n",
    "    writer.writerow([\"File Name\", \"Number of detections\"])\n",
    "\n",
    "    for file_name in file_list:\n",
    "        if file_name.endswith(\".txt\"):\n",
    "            file_path = os.path.join(folder_path, file_name)\n",
    "            count = 0\n",
    "\n",
    "            with open(file_path, mode='r') as txt_file:\n",
    "                for line in txt_file:\n",
    "                    if line.startswith(\"0\"): # adapt as required the class-ID\n",
    "                        count += 1\n",
    "\n",
    "            writer.writerow([file_name, count])\n"
   ]
  }
 ],
 "metadata": {
  "kernelspec": {
   "display_name": "yolo",
   "language": "python",
   "name": "yolo"
  },
  "language_info": {
   "codemirror_mode": {
    "name": "ipython",
    "version": 3
   },
   "file_extension": ".py",
   "mimetype": "text/x-python",
   "name": "python",
   "nbconvert_exporter": "python",
   "pygments_lexer": "ipython3",
   "version": "3.9.18"
  }
 },
 "nbformat": 4,
 "nbformat_minor": 5
}
